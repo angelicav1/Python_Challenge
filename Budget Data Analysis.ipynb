{
 "cells": [
  {
   "cell_type": "markdown",
   "id": "92bb4db3",
   "metadata": {},
   "source": [
    "# Budget Analysis\n"
   ]
  },
  {
   "cell_type": "markdown",
   "id": "896a5036",
   "metadata": {},
   "source": [
    "## Import dependencies and data files"
   ]
  },
  {
   "cell_type": "code",
   "execution_count": 3,
   "id": "c295f5be",
   "metadata": {},
   "outputs": [],
   "source": [
    "#import dependancies\n",
    "import pandas as pd\n",
    "import matplotlib.pyplot as plt\n",
    "import numpy as np"
   ]
  },
  {
   "cell_type": "code",
   "execution_count": 4,
   "id": "314bf5db",
   "metadata": {},
   "outputs": [],
   "source": [
    "#import data files from CSV file in module and as a variable. \n",
    "budget_pd = pd.read_csv('../Python_Challenge/budget_data.csv')"
   ]
  },
  {
   "cell_type": "code",
   "execution_count": 5,
   "id": "33c2c025",
   "metadata": {},
   "outputs": [
    {
     "data": {
      "text/html": [
       "<div>\n",
       "<style scoped>\n",
       "    .dataframe tbody tr th:only-of-type {\n",
       "        vertical-align: middle;\n",
       "    }\n",
       "\n",
       "    .dataframe tbody tr th {\n",
       "        vertical-align: top;\n",
       "    }\n",
       "\n",
       "    .dataframe thead th {\n",
       "        text-align: right;\n",
       "    }\n",
       "</style>\n",
       "<table border=\"1\" class=\"dataframe\">\n",
       "  <thead>\n",
       "    <tr style=\"text-align: right;\">\n",
       "      <th></th>\n",
       "      <th>Date</th>\n",
       "      <th>Profit/Losses</th>\n",
       "    </tr>\n",
       "  </thead>\n",
       "  <tbody>\n",
       "    <tr>\n",
       "      <th>0</th>\n",
       "      <td>Jan-10</td>\n",
       "      <td>1088983</td>\n",
       "    </tr>\n",
       "    <tr>\n",
       "      <th>1</th>\n",
       "      <td>Feb-10</td>\n",
       "      <td>-354534</td>\n",
       "    </tr>\n",
       "    <tr>\n",
       "      <th>2</th>\n",
       "      <td>Mar-10</td>\n",
       "      <td>276622</td>\n",
       "    </tr>\n",
       "    <tr>\n",
       "      <th>3</th>\n",
       "      <td>Apr-10</td>\n",
       "      <td>-728133</td>\n",
       "    </tr>\n",
       "    <tr>\n",
       "      <th>4</th>\n",
       "      <td>May-10</td>\n",
       "      <td>852993</td>\n",
       "    </tr>\n",
       "    <tr>\n",
       "      <th>...</th>\n",
       "      <td>...</td>\n",
       "      <td>...</td>\n",
       "    </tr>\n",
       "    <tr>\n",
       "      <th>81</th>\n",
       "      <td>Oct-16</td>\n",
       "      <td>-729004</td>\n",
       "    </tr>\n",
       "    <tr>\n",
       "      <th>82</th>\n",
       "      <td>Nov-16</td>\n",
       "      <td>-112209</td>\n",
       "    </tr>\n",
       "    <tr>\n",
       "      <th>83</th>\n",
       "      <td>Dec-16</td>\n",
       "      <td>516313</td>\n",
       "    </tr>\n",
       "    <tr>\n",
       "      <th>84</th>\n",
       "      <td>Jan-17</td>\n",
       "      <td>607208</td>\n",
       "    </tr>\n",
       "    <tr>\n",
       "      <th>85</th>\n",
       "      <td>Feb-17</td>\n",
       "      <td>382539</td>\n",
       "    </tr>\n",
       "  </tbody>\n",
       "</table>\n",
       "<p>86 rows × 2 columns</p>\n",
       "</div>"
      ],
      "text/plain": [
       "      Date  Profit/Losses\n",
       "0   Jan-10        1088983\n",
       "1   Feb-10        -354534\n",
       "2   Mar-10         276622\n",
       "3   Apr-10        -728133\n",
       "4   May-10         852993\n",
       "..     ...            ...\n",
       "81  Oct-16        -729004\n",
       "82  Nov-16        -112209\n",
       "83  Dec-16         516313\n",
       "84  Jan-17         607208\n",
       "85  Feb-17         382539\n",
       "\n",
       "[86 rows x 2 columns]"
      ]
     },
     "execution_count": 5,
     "metadata": {},
     "output_type": "execute_result"
    }
   ],
   "source": [
    "#check dataframe was created correctly and all information was translated to jupyter notebook.\n",
    "budget_pd"
   ]
  },
  {
   "cell_type": "markdown",
   "id": "70e4f756",
   "metadata": {},
   "source": [
    "## Clean Data For Further Analysis"
   ]
  },
  {
   "cell_type": "code",
   "execution_count": 6,
   "id": "5a39697b",
   "metadata": {},
   "outputs": [
    {
     "data": {
      "text/plain": [
       "Date             86\n",
       "Profit/Losses    86\n",
       "dtype: int64"
      ]
     },
     "execution_count": 6,
     "metadata": {},
     "output_type": "execute_result"
    }
   ],
   "source": [
    "#analyze the records to calculate each of the required values.\n",
    "#First, the total number of months included in the dataset.  \n",
    "\n",
    "budget_pd.sort_values('Date').count()"
   ]
  },
  {
   "cell_type": "code",
   "execution_count": 7,
   "id": "1caa86ee",
   "metadata": {},
   "outputs": [
    {
     "data": {
      "text/html": [
       "<div>\n",
       "<style scoped>\n",
       "    .dataframe tbody tr th:only-of-type {\n",
       "        vertical-align: middle;\n",
       "    }\n",
       "\n",
       "    .dataframe tbody tr th {\n",
       "        vertical-align: top;\n",
       "    }\n",
       "\n",
       "    .dataframe thead th {\n",
       "        text-align: right;\n",
       "    }\n",
       "</style>\n",
       "<table border=\"1\" class=\"dataframe\">\n",
       "  <thead>\n",
       "    <tr style=\"text-align: right;\">\n",
       "      <th></th>\n",
       "      <th>Profit/Losses</th>\n",
       "    </tr>\n",
       "    <tr>\n",
       "      <th>Date</th>\n",
       "      <th></th>\n",
       "    </tr>\n",
       "  </thead>\n",
       "  <tbody>\n",
       "    <tr>\n",
       "      <th>Apr-10</th>\n",
       "      <td>-728133</td>\n",
       "    </tr>\n",
       "    <tr>\n",
       "      <th>Apr-11</th>\n",
       "      <td>837887</td>\n",
       "    </tr>\n",
       "    <tr>\n",
       "      <th>Apr-12</th>\n",
       "      <td>589771</td>\n",
       "    </tr>\n",
       "    <tr>\n",
       "      <th>Apr-13</th>\n",
       "      <td>542630</td>\n",
       "    </tr>\n",
       "    <tr>\n",
       "      <th>Apr-14</th>\n",
       "      <td>292032</td>\n",
       "    </tr>\n",
       "    <tr>\n",
       "      <th>...</th>\n",
       "      <td>...</td>\n",
       "    </tr>\n",
       "    <tr>\n",
       "      <th>Sep-12</th>\n",
       "      <td>855449</td>\n",
       "    </tr>\n",
       "    <tr>\n",
       "      <th>Sep-13</th>\n",
       "      <td>679524</td>\n",
       "    </tr>\n",
       "    <tr>\n",
       "      <th>Sep-14</th>\n",
       "      <td>290162</td>\n",
       "    </tr>\n",
       "    <tr>\n",
       "      <th>Sep-15</th>\n",
       "      <td>854181</td>\n",
       "    </tr>\n",
       "    <tr>\n",
       "      <th>Sep-16</th>\n",
       "      <td>898241</td>\n",
       "    </tr>\n",
       "  </tbody>\n",
       "</table>\n",
       "<p>86 rows × 1 columns</p>\n",
       "</div>"
      ],
      "text/plain": [
       "        Profit/Losses\n",
       "Date                 \n",
       "Apr-10        -728133\n",
       "Apr-11         837887\n",
       "Apr-12         589771\n",
       "Apr-13         542630\n",
       "Apr-14         292032\n",
       "...               ...\n",
       "Sep-12         855449\n",
       "Sep-13         679524\n",
       "Sep-14         290162\n",
       "Sep-15         854181\n",
       "Sep-16         898241\n",
       "\n",
       "[86 rows x 1 columns]"
      ]
     },
     "execution_count": 7,
     "metadata": {},
     "output_type": "execute_result"
    }
   ],
   "source": [
    "#show a better visualization of the total amount of months as a pivot table. \n",
    "budget_pd.pivot_table('Profit/Losses', 'Date')"
   ]
  },
  {
   "cell_type": "code",
   "execution_count": 8,
   "id": "c74644d6",
   "metadata": {},
   "outputs": [
    {
     "data": {
      "text/plain": [
       "Date             Dec-10Feb-16Jul-11Feb-14Jul-16Feb-11Sep-11Nov-...\n",
       "Profit/Losses                                             22564198\n",
       "dtype: object"
      ]
     },
     "execution_count": 8,
     "metadata": {},
     "output_type": "execute_result"
    }
   ],
   "source": [
    "#analyze the changes of the net total amount of \"Profit/Losses\" over the entire period.\n",
    "budget_pd.sort_values('Profit/Losses').sum()"
   ]
  },
  {
   "cell_type": "code",
   "execution_count": 9,
   "id": "d99a5405",
   "metadata": {},
   "outputs": [
    {
     "name": "stderr",
     "output_type": "stream",
     "text": [
      "/var/folders/2p/49ybcsbj6nb1_gjhq7bl4j2m0000gn/T/ipykernel_14929/2575368163.py:3: FutureWarning: Dropping invalid columns in DataFrameGroupBy.mean is deprecated. In a future version, a TypeError will be raised. Before calling .mean, select only columns which should be valid for the function.\n",
      "  budget_pd.pivot_table('Date', 'Profit/Losses')\n"
     ]
    },
    {
     "data": {
      "text/html": [
       "<div>\n",
       "<style scoped>\n",
       "    .dataframe tbody tr th:only-of-type {\n",
       "        vertical-align: middle;\n",
       "    }\n",
       "\n",
       "    .dataframe tbody tr th {\n",
       "        vertical-align: top;\n",
       "    }\n",
       "\n",
       "    .dataframe thead th {\n",
       "        text-align: right;\n",
       "    }\n",
       "</style>\n",
       "<table border=\"1\" class=\"dataframe\">\n",
       "  <thead>\n",
       "    <tr style=\"text-align: right;\">\n",
       "      <th></th>\n",
       "    </tr>\n",
       "    <tr>\n",
       "      <th>Profit/Losses</th>\n",
       "    </tr>\n",
       "  </thead>\n",
       "  <tbody>\n",
       "    <tr>\n",
       "      <th>-1194133</th>\n",
       "    </tr>\n",
       "    <tr>\n",
       "      <th>-1149123</th>\n",
       "    </tr>\n",
       "    <tr>\n",
       "      <th>-1066544</th>\n",
       "    </tr>\n",
       "    <tr>\n",
       "      <th>-946748</th>\n",
       "    </tr>\n",
       "    <tr>\n",
       "      <th>-910775</th>\n",
       "    </tr>\n",
       "    <tr>\n",
       "      <th>...</th>\n",
       "    </tr>\n",
       "    <tr>\n",
       "      <th>1073202</th>\n",
       "    </tr>\n",
       "    <tr>\n",
       "      <th>1081472</th>\n",
       "    </tr>\n",
       "    <tr>\n",
       "      <th>1088983</th>\n",
       "    </tr>\n",
       "    <tr>\n",
       "      <th>1128811</th>\n",
       "    </tr>\n",
       "    <tr>\n",
       "      <th>1141840</th>\n",
       "    </tr>\n",
       "  </tbody>\n",
       "</table>\n",
       "<p>86 rows × 0 columns</p>\n",
       "</div>"
      ],
      "text/plain": [
       "Empty DataFrame\n",
       "Columns: []\n",
       "Index: [-1194133, -1149123, -1066544, -946748, -910775, -883921, -806551, -785750, -748256, -729004, -728133, -589576, -549615, -535208, -496214, -471439, -388932, -354534, -288531, -252949, -235220, -197825, -184383, -173744, -112209, 99841, 120417, 159782, 163254, 175347, 241132, 265852, 276622, 290162, 292032, 298510, 313000, 323846, 340335, 347138, 355882, 382539, 443564, 462102, 464033, 487053, 489290, 502266, 514377, 516313, 518681, 537759, 542630, 547784, 563721, 589771, 605195, 607208, 632349, 659541, 662284, 666016, 679524, 739367, 752765, 755391, 791398, 837887, 851017, 852993, 853904, 854181, 855449, 878810, 898241, 914424, 934719, 950741, 951227, 982952, 1036589, 1073202, 1081472, 1088983, 1128811, 1141840]\n",
       "\n",
       "[86 rows x 0 columns]"
      ]
     },
     "execution_count": 9,
     "metadata": {},
     "output_type": "execute_result"
    }
   ],
   "source": [
    "#I want to show a better visualization of the Profit/Lossess column with a pivot table. \n",
    "#This pivot table does not show the total sum of $22564198 unlike the line prior. \n",
    "budget_pd.pivot_table('Date', 'Profit/Losses')"
   ]
  },
  {
   "cell_type": "code",
   "execution_count": 14,
   "id": "687f45f0",
   "metadata": {
    "scrolled": true
   },
   "outputs": [
    {
     "ename": "NameError",
     "evalue": "name 'budged_pd' is not defined",
     "output_type": "error",
     "traceback": [
      "\u001b[0;31m---------------------------------------------------------------------------\u001b[0m",
      "\u001b[0;31mNameError\u001b[0m                                 Traceback (most recent call last)",
      "Input \u001b[0;32mIn [14]\u001b[0m, in \u001b[0;36m<cell line: 2>\u001b[0;34m()\u001b[0m\n\u001b[1;32m      1\u001b[0m \u001b[38;5;66;03m#I want to show the greatest increase in profits (date and amount) over the entire period. \u001b[39;00m\n\u001b[0;32m----> 2\u001b[0m \u001b[43mbudged_pd\u001b[49m\u001b[38;5;241m.\u001b[39mloc[budget_pd\u001b[38;5;241m.\u001b[39mINCREASE\u001b[38;5;241m.\u001b[39midxmax()]\n",
      "\u001b[0;31mNameError\u001b[0m: name 'budged_pd' is not defined"
     ]
    }
   ],
   "source": [
    "#I want to show the greatest increase in profits (date and amount) over the entire period. \n",
    "budged_pd.loc[budget_pd.INCREASE.idxmax()]"
   ]
  },
  {
   "cell_type": "code",
   "execution_count": 11,
   "id": "7d772c25",
   "metadata": {},
   "outputs": [
    {
     "data": {
      "text/html": [
       "<div>\n",
       "<style scoped>\n",
       "    .dataframe tbody tr th:only-of-type {\n",
       "        vertical-align: middle;\n",
       "    }\n",
       "\n",
       "    .dataframe tbody tr th {\n",
       "        vertical-align: top;\n",
       "    }\n",
       "\n",
       "    .dataframe thead th {\n",
       "        text-align: right;\n",
       "    }\n",
       "</style>\n",
       "<table border=\"1\" class=\"dataframe\">\n",
       "  <thead>\n",
       "    <tr style=\"text-align: right;\">\n",
       "      <th></th>\n",
       "      <th>Date</th>\n",
       "      <th>Profit/Losses</th>\n",
       "    </tr>\n",
       "  </thead>\n",
       "  <tbody>\n",
       "    <tr>\n",
       "      <th>11</th>\n",
       "      <td>Dec-10</td>\n",
       "      <td>-1194133</td>\n",
       "    </tr>\n",
       "    <tr>\n",
       "      <th>73</th>\n",
       "      <td>Feb-16</td>\n",
       "      <td>-1149123</td>\n",
       "    </tr>\n",
       "    <tr>\n",
       "      <th>18</th>\n",
       "      <td>Jul-11</td>\n",
       "      <td>-1066544</td>\n",
       "    </tr>\n",
       "    <tr>\n",
       "      <th>49</th>\n",
       "      <td>Feb-14</td>\n",
       "      <td>-946748</td>\n",
       "    </tr>\n",
       "    <tr>\n",
       "      <th>78</th>\n",
       "      <td>Jul-16</td>\n",
       "      <td>-910775</td>\n",
       "    </tr>\n",
       "    <tr>\n",
       "      <th>...</th>\n",
       "      <td>...</td>\n",
       "      <td>...</td>\n",
       "    </tr>\n",
       "    <tr>\n",
       "      <th>58</th>\n",
       "      <td>Nov-14</td>\n",
       "      <td>1073202</td>\n",
       "    </tr>\n",
       "    <tr>\n",
       "      <th>16</th>\n",
       "      <td>May-11</td>\n",
       "      <td>1081472</td>\n",
       "    </tr>\n",
       "    <tr>\n",
       "      <th>0</th>\n",
       "      <td>Jan-10</td>\n",
       "      <td>1088983</td>\n",
       "    </tr>\n",
       "    <tr>\n",
       "      <th>22</th>\n",
       "      <td>Nov-11</td>\n",
       "      <td>1128811</td>\n",
       "    </tr>\n",
       "    <tr>\n",
       "      <th>38</th>\n",
       "      <td>Mar-13</td>\n",
       "      <td>1141840</td>\n",
       "    </tr>\n",
       "  </tbody>\n",
       "</table>\n",
       "<p>86 rows × 2 columns</p>\n",
       "</div>"
      ],
      "text/plain": [
       "      Date  Profit/Losses\n",
       "11  Dec-10       -1194133\n",
       "73  Feb-16       -1149123\n",
       "18  Jul-11       -1066544\n",
       "49  Feb-14        -946748\n",
       "78  Jul-16        -910775\n",
       "..     ...            ...\n",
       "58  Nov-14        1073202\n",
       "16  May-11        1081472\n",
       "0   Jan-10        1088983\n",
       "22  Nov-11        1128811\n",
       "38  Mar-13        1141840\n",
       "\n",
       "[86 rows x 2 columns]"
      ]
     },
     "execution_count": 11,
     "metadata": {},
     "output_type": "execute_result"
    }
   ],
   "source": [
    "#I want to show the greatest decrease in profits by date and amount over the entire period. \n",
    "budget_pd.sort_values(by='Profit/Losses', ascending=True)"
   ]
  },
  {
   "cell_type": "code",
   "execution_count": null,
   "id": "3a906115",
   "metadata": {},
   "outputs": [],
   "source": []
  }
 ],
 "metadata": {
  "celltoolbar": "Raw Cell Format",
  "kernelspec": {
   "display_name": "Python 3 (ipykernel)",
   "language": "python",
   "name": "python3"
  },
  "language_info": {
   "codemirror_mode": {
    "name": "ipython",
    "version": 3
   },
   "file_extension": ".py",
   "mimetype": "text/x-python",
   "name": "python",
   "nbconvert_exporter": "python",
   "pygments_lexer": "ipython3",
   "version": "3.9.12"
  }
 },
 "nbformat": 4,
 "nbformat_minor": 5
}
